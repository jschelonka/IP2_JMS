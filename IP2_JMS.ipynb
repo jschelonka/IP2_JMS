{
 "cells": [
  {
   "cell_type": "code",
   "execution_count": 2,
   "id": "0ca7967d",
   "metadata": {},
   "outputs": [],
   "source": [
    "import pandas as pd\n",
    "import numpy as np"
   ]
  },
  {
   "cell_type": "code",
   "execution_count": 4,
   "id": "54e8258e",
   "metadata": {},
   "outputs": [],
   "source": [
    "df = pd.read_csv('weather_2012.csv')"
   ]
  },
  {
   "cell_type": "code",
   "execution_count": 5,
   "id": "5d837f2c",
   "metadata": {},
   "outputs": [
    {
     "data": {
      "text/html": [
       "<div>\n",
       "<style scoped>\n",
       "    .dataframe tbody tr th:only-of-type {\n",
       "        vertical-align: middle;\n",
       "    }\n",
       "\n",
       "    .dataframe tbody tr th {\n",
       "        vertical-align: top;\n",
       "    }\n",
       "\n",
       "    .dataframe thead th {\n",
       "        text-align: right;\n",
       "    }\n",
       "</style>\n",
       "<table border=\"1\" class=\"dataframe\">\n",
       "  <thead>\n",
       "    <tr style=\"text-align: right;\">\n",
       "      <th></th>\n",
       "      <th>Date/Time</th>\n",
       "      <th>Temp (C)</th>\n",
       "      <th>Dew Point Temp (C)</th>\n",
       "      <th>Rel Hum (%)</th>\n",
       "      <th>Wind Spd (km/h)</th>\n",
       "      <th>Visibility (km)</th>\n",
       "      <th>Stn Press (kPa)</th>\n",
       "      <th>Weather</th>\n",
       "    </tr>\n",
       "  </thead>\n",
       "  <tbody>\n",
       "    <tr>\n",
       "      <th>0</th>\n",
       "      <td>2012-01-01 00:00:00</td>\n",
       "      <td>-1.8</td>\n",
       "      <td>-3.9</td>\n",
       "      <td>86</td>\n",
       "      <td>4</td>\n",
       "      <td>8.0</td>\n",
       "      <td>101.24</td>\n",
       "      <td>Fog</td>\n",
       "    </tr>\n",
       "    <tr>\n",
       "      <th>1</th>\n",
       "      <td>2012-01-01 01:00:00</td>\n",
       "      <td>-1.8</td>\n",
       "      <td>-3.7</td>\n",
       "      <td>87</td>\n",
       "      <td>4</td>\n",
       "      <td>8.0</td>\n",
       "      <td>101.24</td>\n",
       "      <td>Fog</td>\n",
       "    </tr>\n",
       "    <tr>\n",
       "      <th>2</th>\n",
       "      <td>2012-01-01 02:00:00</td>\n",
       "      <td>-1.8</td>\n",
       "      <td>-3.4</td>\n",
       "      <td>89</td>\n",
       "      <td>7</td>\n",
       "      <td>4.0</td>\n",
       "      <td>101.26</td>\n",
       "      <td>Freezing Drizzle,Fog</td>\n",
       "    </tr>\n",
       "    <tr>\n",
       "      <th>3</th>\n",
       "      <td>2012-01-01 03:00:00</td>\n",
       "      <td>-1.5</td>\n",
       "      <td>-3.2</td>\n",
       "      <td>88</td>\n",
       "      <td>6</td>\n",
       "      <td>4.0</td>\n",
       "      <td>101.27</td>\n",
       "      <td>Freezing Drizzle,Fog</td>\n",
       "    </tr>\n",
       "    <tr>\n",
       "      <th>4</th>\n",
       "      <td>2012-01-01 04:00:00</td>\n",
       "      <td>-1.5</td>\n",
       "      <td>-3.3</td>\n",
       "      <td>88</td>\n",
       "      <td>7</td>\n",
       "      <td>4.8</td>\n",
       "      <td>101.23</td>\n",
       "      <td>Fog</td>\n",
       "    </tr>\n",
       "    <tr>\n",
       "      <th>...</th>\n",
       "      <td>...</td>\n",
       "      <td>...</td>\n",
       "      <td>...</td>\n",
       "      <td>...</td>\n",
       "      <td>...</td>\n",
       "      <td>...</td>\n",
       "      <td>...</td>\n",
       "      <td>...</td>\n",
       "    </tr>\n",
       "    <tr>\n",
       "      <th>8779</th>\n",
       "      <td>2012-12-31 19:00:00</td>\n",
       "      <td>0.1</td>\n",
       "      <td>-2.7</td>\n",
       "      <td>81</td>\n",
       "      <td>30</td>\n",
       "      <td>9.7</td>\n",
       "      <td>100.13</td>\n",
       "      <td>Snow</td>\n",
       "    </tr>\n",
       "    <tr>\n",
       "      <th>8780</th>\n",
       "      <td>2012-12-31 20:00:00</td>\n",
       "      <td>0.2</td>\n",
       "      <td>-2.4</td>\n",
       "      <td>83</td>\n",
       "      <td>24</td>\n",
       "      <td>9.7</td>\n",
       "      <td>100.03</td>\n",
       "      <td>Snow</td>\n",
       "    </tr>\n",
       "    <tr>\n",
       "      <th>8781</th>\n",
       "      <td>2012-12-31 21:00:00</td>\n",
       "      <td>-0.5</td>\n",
       "      <td>-1.5</td>\n",
       "      <td>93</td>\n",
       "      <td>28</td>\n",
       "      <td>4.8</td>\n",
       "      <td>99.95</td>\n",
       "      <td>Snow</td>\n",
       "    </tr>\n",
       "    <tr>\n",
       "      <th>8782</th>\n",
       "      <td>2012-12-31 22:00:00</td>\n",
       "      <td>-0.2</td>\n",
       "      <td>-1.8</td>\n",
       "      <td>89</td>\n",
       "      <td>28</td>\n",
       "      <td>9.7</td>\n",
       "      <td>99.91</td>\n",
       "      <td>Snow</td>\n",
       "    </tr>\n",
       "    <tr>\n",
       "      <th>8783</th>\n",
       "      <td>2012-12-31 23:00:00</td>\n",
       "      <td>0.0</td>\n",
       "      <td>-2.1</td>\n",
       "      <td>86</td>\n",
       "      <td>30</td>\n",
       "      <td>11.3</td>\n",
       "      <td>99.89</td>\n",
       "      <td>Snow</td>\n",
       "    </tr>\n",
       "  </tbody>\n",
       "</table>\n",
       "<p>8784 rows × 8 columns</p>\n",
       "</div>"
      ],
      "text/plain": [
       "                Date/Time  Temp (C)  Dew Point Temp (C)  Rel Hum (%)  \\\n",
       "0     2012-01-01 00:00:00      -1.8                -3.9           86   \n",
       "1     2012-01-01 01:00:00      -1.8                -3.7           87   \n",
       "2     2012-01-01 02:00:00      -1.8                -3.4           89   \n",
       "3     2012-01-01 03:00:00      -1.5                -3.2           88   \n",
       "4     2012-01-01 04:00:00      -1.5                -3.3           88   \n",
       "...                   ...       ...                 ...          ...   \n",
       "8779  2012-12-31 19:00:00       0.1                -2.7           81   \n",
       "8780  2012-12-31 20:00:00       0.2                -2.4           83   \n",
       "8781  2012-12-31 21:00:00      -0.5                -1.5           93   \n",
       "8782  2012-12-31 22:00:00      -0.2                -1.8           89   \n",
       "8783  2012-12-31 23:00:00       0.0                -2.1           86   \n",
       "\n",
       "      Wind Spd (km/h)  Visibility (km)  Stn Press (kPa)               Weather  \n",
       "0                   4              8.0           101.24                   Fog  \n",
       "1                   4              8.0           101.24                   Fog  \n",
       "2                   7              4.0           101.26  Freezing Drizzle,Fog  \n",
       "3                   6              4.0           101.27  Freezing Drizzle,Fog  \n",
       "4                   7              4.8           101.23                   Fog  \n",
       "...               ...              ...              ...                   ...  \n",
       "8779               30              9.7           100.13                  Snow  \n",
       "8780               24              9.7           100.03                  Snow  \n",
       "8781               28              4.8            99.95                  Snow  \n",
       "8782               28              9.7            99.91                  Snow  \n",
       "8783               30             11.3            99.89                  Snow  \n",
       "\n",
       "[8784 rows x 8 columns]"
      ]
     },
     "execution_count": 5,
     "metadata": {},
     "output_type": "execute_result"
    }
   ],
   "source": [
    "df"
   ]
  },
  {
   "cell_type": "code",
   "execution_count": 6,
   "id": "0b56138b",
   "metadata": {},
   "outputs": [
    {
     "data": {
      "text/html": [
       "<div>\n",
       "<style scoped>\n",
       "    .dataframe tbody tr th:only-of-type {\n",
       "        vertical-align: middle;\n",
       "    }\n",
       "\n",
       "    .dataframe tbody tr th {\n",
       "        vertical-align: top;\n",
       "    }\n",
       "\n",
       "    .dataframe thead th {\n",
       "        text-align: right;\n",
       "    }\n",
       "</style>\n",
       "<table border=\"1\" class=\"dataframe\">\n",
       "  <thead>\n",
       "    <tr style=\"text-align: right;\">\n",
       "      <th></th>\n",
       "      <th>Date/Time</th>\n",
       "      <th>Temp (C)</th>\n",
       "      <th>Dew Point Temp (C)</th>\n",
       "      <th>Rel Hum (%)</th>\n",
       "      <th>Wind Spd (km/h)</th>\n",
       "      <th>Visibility (km)</th>\n",
       "      <th>Stn Press (kPa)</th>\n",
       "      <th>Weather</th>\n",
       "    </tr>\n",
       "  </thead>\n",
       "  <tbody>\n",
       "    <tr>\n",
       "      <th>0</th>\n",
       "      <td>2012-01-01 00:00:00</td>\n",
       "      <td>-1.8</td>\n",
       "      <td>-3.9</td>\n",
       "      <td>86</td>\n",
       "      <td>4</td>\n",
       "      <td>8.0</td>\n",
       "      <td>101.24</td>\n",
       "      <td>Fog</td>\n",
       "    </tr>\n",
       "    <tr>\n",
       "      <th>1</th>\n",
       "      <td>2012-01-01 01:00:00</td>\n",
       "      <td>-1.8</td>\n",
       "      <td>-3.7</td>\n",
       "      <td>87</td>\n",
       "      <td>4</td>\n",
       "      <td>8.0</td>\n",
       "      <td>101.24</td>\n",
       "      <td>Fog</td>\n",
       "    </tr>\n",
       "    <tr>\n",
       "      <th>2</th>\n",
       "      <td>2012-01-01 02:00:00</td>\n",
       "      <td>-1.8</td>\n",
       "      <td>-3.4</td>\n",
       "      <td>89</td>\n",
       "      <td>7</td>\n",
       "      <td>4.0</td>\n",
       "      <td>101.26</td>\n",
       "      <td>Freezing Drizzle,Fog</td>\n",
       "    </tr>\n",
       "    <tr>\n",
       "      <th>3</th>\n",
       "      <td>2012-01-01 03:00:00</td>\n",
       "      <td>-1.5</td>\n",
       "      <td>-3.2</td>\n",
       "      <td>88</td>\n",
       "      <td>6</td>\n",
       "      <td>4.0</td>\n",
       "      <td>101.27</td>\n",
       "      <td>Freezing Drizzle,Fog</td>\n",
       "    </tr>\n",
       "    <tr>\n",
       "      <th>4</th>\n",
       "      <td>2012-01-01 04:00:00</td>\n",
       "      <td>-1.5</td>\n",
       "      <td>-3.3</td>\n",
       "      <td>88</td>\n",
       "      <td>7</td>\n",
       "      <td>4.8</td>\n",
       "      <td>101.23</td>\n",
       "      <td>Fog</td>\n",
       "    </tr>\n",
       "  </tbody>\n",
       "</table>\n",
       "</div>"
      ],
      "text/plain": [
       "             Date/Time  Temp (C)  Dew Point Temp (C)  Rel Hum (%)  \\\n",
       "0  2012-01-01 00:00:00      -1.8                -3.9           86   \n",
       "1  2012-01-01 01:00:00      -1.8                -3.7           87   \n",
       "2  2012-01-01 02:00:00      -1.8                -3.4           89   \n",
       "3  2012-01-01 03:00:00      -1.5                -3.2           88   \n",
       "4  2012-01-01 04:00:00      -1.5                -3.3           88   \n",
       "\n",
       "   Wind Spd (km/h)  Visibility (km)  Stn Press (kPa)               Weather  \n",
       "0                4              8.0           101.24                   Fog  \n",
       "1                4              8.0           101.24                   Fog  \n",
       "2                7              4.0           101.26  Freezing Drizzle,Fog  \n",
       "3                6              4.0           101.27  Freezing Drizzle,Fog  \n",
       "4                7              4.8           101.23                   Fog  "
      ]
     },
     "execution_count": 6,
     "metadata": {},
     "output_type": "execute_result"
    }
   ],
   "source": [
    "df.head()"
   ]
  },
  {
   "cell_type": "code",
   "execution_count": 7,
   "id": "e4ebbde8",
   "metadata": {},
   "outputs": [
    {
     "data": {
      "text/html": [
       "<div>\n",
       "<style scoped>\n",
       "    .dataframe tbody tr th:only-of-type {\n",
       "        vertical-align: middle;\n",
       "    }\n",
       "\n",
       "    .dataframe tbody tr th {\n",
       "        vertical-align: top;\n",
       "    }\n",
       "\n",
       "    .dataframe thead th {\n",
       "        text-align: right;\n",
       "    }\n",
       "</style>\n",
       "<table border=\"1\" class=\"dataframe\">\n",
       "  <thead>\n",
       "    <tr style=\"text-align: right;\">\n",
       "      <th></th>\n",
       "      <th>Date/Time</th>\n",
       "      <th>Temp (C)</th>\n",
       "      <th>Dew Point Temp (C)</th>\n",
       "      <th>Rel Hum (%)</th>\n",
       "      <th>Wind Spd (km/h)</th>\n",
       "      <th>Visibility (km)</th>\n",
       "      <th>Stn Press (kPa)</th>\n",
       "      <th>Weather</th>\n",
       "    </tr>\n",
       "  </thead>\n",
       "  <tbody>\n",
       "    <tr>\n",
       "      <th>8779</th>\n",
       "      <td>2012-12-31 19:00:00</td>\n",
       "      <td>0.1</td>\n",
       "      <td>-2.7</td>\n",
       "      <td>81</td>\n",
       "      <td>30</td>\n",
       "      <td>9.7</td>\n",
       "      <td>100.13</td>\n",
       "      <td>Snow</td>\n",
       "    </tr>\n",
       "    <tr>\n",
       "      <th>8780</th>\n",
       "      <td>2012-12-31 20:00:00</td>\n",
       "      <td>0.2</td>\n",
       "      <td>-2.4</td>\n",
       "      <td>83</td>\n",
       "      <td>24</td>\n",
       "      <td>9.7</td>\n",
       "      <td>100.03</td>\n",
       "      <td>Snow</td>\n",
       "    </tr>\n",
       "    <tr>\n",
       "      <th>8781</th>\n",
       "      <td>2012-12-31 21:00:00</td>\n",
       "      <td>-0.5</td>\n",
       "      <td>-1.5</td>\n",
       "      <td>93</td>\n",
       "      <td>28</td>\n",
       "      <td>4.8</td>\n",
       "      <td>99.95</td>\n",
       "      <td>Snow</td>\n",
       "    </tr>\n",
       "    <tr>\n",
       "      <th>8782</th>\n",
       "      <td>2012-12-31 22:00:00</td>\n",
       "      <td>-0.2</td>\n",
       "      <td>-1.8</td>\n",
       "      <td>89</td>\n",
       "      <td>28</td>\n",
       "      <td>9.7</td>\n",
       "      <td>99.91</td>\n",
       "      <td>Snow</td>\n",
       "    </tr>\n",
       "    <tr>\n",
       "      <th>8783</th>\n",
       "      <td>2012-12-31 23:00:00</td>\n",
       "      <td>0.0</td>\n",
       "      <td>-2.1</td>\n",
       "      <td>86</td>\n",
       "      <td>30</td>\n",
       "      <td>11.3</td>\n",
       "      <td>99.89</td>\n",
       "      <td>Snow</td>\n",
       "    </tr>\n",
       "  </tbody>\n",
       "</table>\n",
       "</div>"
      ],
      "text/plain": [
       "                Date/Time  Temp (C)  Dew Point Temp (C)  Rel Hum (%)  \\\n",
       "8779  2012-12-31 19:00:00       0.1                -2.7           81   \n",
       "8780  2012-12-31 20:00:00       0.2                -2.4           83   \n",
       "8781  2012-12-31 21:00:00      -0.5                -1.5           93   \n",
       "8782  2012-12-31 22:00:00      -0.2                -1.8           89   \n",
       "8783  2012-12-31 23:00:00       0.0                -2.1           86   \n",
       "\n",
       "      Wind Spd (km/h)  Visibility (km)  Stn Press (kPa) Weather  \n",
       "8779               30              9.7           100.13    Snow  \n",
       "8780               24              9.7           100.03    Snow  \n",
       "8781               28              4.8            99.95    Snow  \n",
       "8782               28              9.7            99.91    Snow  \n",
       "8783               30             11.3            99.89    Snow  "
      ]
     },
     "execution_count": 7,
     "metadata": {},
     "output_type": "execute_result"
    }
   ],
   "source": [
    "df.tail()"
   ]
  },
  {
   "cell_type": "code",
   "execution_count": 8,
   "id": "40da3433",
   "metadata": {},
   "outputs": [
    {
     "data": {
      "text/html": [
       "<div>\n",
       "<style scoped>\n",
       "    .dataframe tbody tr th:only-of-type {\n",
       "        vertical-align: middle;\n",
       "    }\n",
       "\n",
       "    .dataframe tbody tr th {\n",
       "        vertical-align: top;\n",
       "    }\n",
       "\n",
       "    .dataframe thead th {\n",
       "        text-align: right;\n",
       "    }\n",
       "</style>\n",
       "<table border=\"1\" class=\"dataframe\">\n",
       "  <thead>\n",
       "    <tr style=\"text-align: right;\">\n",
       "      <th></th>\n",
       "      <th>Date/Time</th>\n",
       "      <th>Temp (C)</th>\n",
       "      <th>Dew Point Temp (C)</th>\n",
       "      <th>Rel Hum (%)</th>\n",
       "      <th>Wind Spd (km/h)</th>\n",
       "      <th>Visibility (km)</th>\n",
       "      <th>Stn Press (kPa)</th>\n",
       "      <th>Weather</th>\n",
       "    </tr>\n",
       "  </thead>\n",
       "  <tbody>\n",
       "    <tr>\n",
       "      <th>267</th>\n",
       "      <td>2012-01-12 03:00:00</td>\n",
       "      <td>-9.0</td>\n",
       "      <td>-14.7</td>\n",
       "      <td>63</td>\n",
       "      <td>33</td>\n",
       "      <td>25.0</td>\n",
       "      <td>101.02</td>\n",
       "      <td>Cloudy</td>\n",
       "    </tr>\n",
       "    <tr>\n",
       "      <th>6082</th>\n",
       "      <td>2012-09-10 10:00:00</td>\n",
       "      <td>14.4</td>\n",
       "      <td>6.5</td>\n",
       "      <td>59</td>\n",
       "      <td>15</td>\n",
       "      <td>24.1</td>\n",
       "      <td>101.32</td>\n",
       "      <td>Mostly Cloudy</td>\n",
       "    </tr>\n",
       "    <tr>\n",
       "      <th>7403</th>\n",
       "      <td>2012-11-04 11:00:00</td>\n",
       "      <td>3.3</td>\n",
       "      <td>-2.3</td>\n",
       "      <td>67</td>\n",
       "      <td>13</td>\n",
       "      <td>24.1</td>\n",
       "      <td>101.08</td>\n",
       "      <td>Cloudy</td>\n",
       "    </tr>\n",
       "    <tr>\n",
       "      <th>3731</th>\n",
       "      <td>2012-06-04 11:00:00</td>\n",
       "      <td>13.1</td>\n",
       "      <td>7.4</td>\n",
       "      <td>68</td>\n",
       "      <td>28</td>\n",
       "      <td>24.1</td>\n",
       "      <td>100.67</td>\n",
       "      <td>Cloudy</td>\n",
       "    </tr>\n",
       "    <tr>\n",
       "      <th>6775</th>\n",
       "      <td>2012-10-09 07:00:00</td>\n",
       "      <td>6.7</td>\n",
       "      <td>5.3</td>\n",
       "      <td>91</td>\n",
       "      <td>9</td>\n",
       "      <td>48.3</td>\n",
       "      <td>102.09</td>\n",
       "      <td>Mainly Clear</td>\n",
       "    </tr>\n",
       "  </tbody>\n",
       "</table>\n",
       "</div>"
      ],
      "text/plain": [
       "                Date/Time  Temp (C)  Dew Point Temp (C)  Rel Hum (%)  \\\n",
       "267   2012-01-12 03:00:00      -9.0               -14.7           63   \n",
       "6082  2012-09-10 10:00:00      14.4                 6.5           59   \n",
       "7403  2012-11-04 11:00:00       3.3                -2.3           67   \n",
       "3731  2012-06-04 11:00:00      13.1                 7.4           68   \n",
       "6775  2012-10-09 07:00:00       6.7                 5.3           91   \n",
       "\n",
       "      Wind Spd (km/h)  Visibility (km)  Stn Press (kPa)        Weather  \n",
       "267                33             25.0           101.02         Cloudy  \n",
       "6082               15             24.1           101.32  Mostly Cloudy  \n",
       "7403               13             24.1           101.08         Cloudy  \n",
       "3731               28             24.1           100.67         Cloudy  \n",
       "6775                9             48.3           102.09   Mainly Clear  "
      ]
     },
     "execution_count": 8,
     "metadata": {},
     "output_type": "execute_result"
    }
   ],
   "source": [
    "df.sample(5)"
   ]
  },
  {
   "cell_type": "code",
   "execution_count": 9,
   "id": "e3c70d43",
   "metadata": {},
   "outputs": [
    {
     "data": {
      "text/plain": [
       "Index(['Date/Time', 'Temp (C)', 'Dew Point Temp (C)', 'Rel Hum (%)',\n",
       "       'Wind Spd (km/h)', 'Visibility (km)', 'Stn Press (kPa)', 'Weather'],\n",
       "      dtype='object')"
      ]
     },
     "execution_count": 9,
     "metadata": {},
     "output_type": "execute_result"
    }
   ],
   "source": [
    "df.columns"
   ]
  },
  {
   "cell_type": "code",
   "execution_count": 10,
   "id": "0950f883",
   "metadata": {},
   "outputs": [],
   "source": [
    "df1 = df.columns"
   ]
  },
  {
   "cell_type": "code",
   "execution_count": 11,
   "id": "56b8477d",
   "metadata": {},
   "outputs": [
    {
     "data": {
      "text/plain": [
       "Index(['Date/Time', 'Temp (C)', 'Dew Point Temp (C)', 'Rel Hum (%)',\n",
       "       'Wind Spd (km/h)', 'Visibility (km)', 'Stn Press (kPa)', 'Weather'],\n",
       "      dtype='object')"
      ]
     },
     "execution_count": 11,
     "metadata": {},
     "output_type": "execute_result"
    }
   ],
   "source": [
    "df1"
   ]
  },
  {
   "cell_type": "code",
   "execution_count": 12,
   "id": "7f19af8f",
   "metadata": {},
   "outputs": [],
   "source": [
    "df = df.rename(columns={'Date/Time' : 'date_time', 'Temp (C)' : 'temp_c', 'Dew Point Temp (C)' : 'dew_point', 'Rel Hum (%)' : 'relative_humidity', 'Wind Spd (km/h)' : 'wind_speed', 'Visibility (km)' : 'visibility', 'Stn Press (kPa)' : 'pressure', 'Weather' : 'weather'})"
   ]
  },
  {
   "cell_type": "code",
   "execution_count": 13,
   "id": "50b2238a",
   "metadata": {},
   "outputs": [
    {
     "data": {
      "text/plain": [
       "Index(['date_time', 'temp_c', 'dew_point', 'relative_humidity', 'wind_speed',\n",
       "       'visibility', 'pressure', 'weather'],\n",
       "      dtype='object')"
      ]
     },
     "execution_count": 13,
     "metadata": {},
     "output_type": "execute_result"
    }
   ],
   "source": [
    "df.columns"
   ]
  },
  {
   "cell_type": "code",
   "execution_count": 14,
   "id": "cede468c",
   "metadata": {},
   "outputs": [
    {
     "data": {
      "text/plain": [
       "date_time            8784\n",
       "temp_c               8784\n",
       "dew_point            8784\n",
       "relative_humidity    8784\n",
       "wind_speed           8784\n",
       "visibility           8784\n",
       "pressure             8784\n",
       "weather              8784\n",
       "dtype: int64"
      ]
     },
     "execution_count": 14,
     "metadata": {},
     "output_type": "execute_result"
    }
   ],
   "source": [
    "df.count()"
   ]
  },
  {
   "cell_type": "code",
   "execution_count": 15,
   "id": "19de900a",
   "metadata": {},
   "outputs": [
    {
     "data": {
      "text/plain": [
       "temp_c                 8.798144\n",
       "dew_point              2.555294\n",
       "relative_humidity     67.431694\n",
       "wind_speed            14.945469\n",
       "visibility            27.664447\n",
       "pressure             101.051623\n",
       "dtype: float64"
      ]
     },
     "execution_count": 15,
     "metadata": {},
     "output_type": "execute_result"
    }
   ],
   "source": [
    "df.mean()"
   ]
  },
  {
   "cell_type": "code",
   "execution_count": 16,
   "id": "c2656b63",
   "metadata": {},
   "outputs": [
    {
     "data": {
      "text/plain": [
       "date_time            2012-01-01 00:00:002012-01-01 01:00:002012-01-...\n",
       "temp_c                                                         77282.9\n",
       "dew_point                                                      22445.7\n",
       "relative_humidity                                               592320\n",
       "wind_speed                                                      131281\n",
       "visibility                                                    243004.5\n",
       "pressure                                                     887637.46\n",
       "weather              FogFogFreezing Drizzle,FogFreezing Drizzle,Fog...\n",
       "dtype: object"
      ]
     },
     "execution_count": 16,
     "metadata": {},
     "output_type": "execute_result"
    }
   ],
   "source": [
    "df.sum()"
   ]
  },
  {
   "cell_type": "code",
   "execution_count": 17,
   "id": "f860a20e",
   "metadata": {},
   "outputs": [
    {
     "data": {
      "text/plain": [
       "date_time            2012-01-01 00:00:00\n",
       "temp_c                             -23.3\n",
       "dew_point                          -28.5\n",
       "relative_humidity                     18\n",
       "wind_speed                             0\n",
       "visibility                           0.2\n",
       "pressure                           97.52\n",
       "weather                            Clear\n",
       "dtype: object"
      ]
     },
     "execution_count": 17,
     "metadata": {},
     "output_type": "execute_result"
    }
   ],
   "source": [
    "df.min()"
   ]
  },
  {
   "cell_type": "code",
   "execution_count": 18,
   "id": "a1bbba5f",
   "metadata": {},
   "outputs": [
    {
     "data": {
      "text/plain": [
       "date_time               2012-12-31 23:00:00\n",
       "temp_c                                 33.0\n",
       "dew_point                              24.4\n",
       "relative_humidity                       100\n",
       "wind_speed                               83\n",
       "visibility                             48.3\n",
       "pressure                             103.65\n",
       "weather              Thunderstorms,Rain,Fog\n",
       "dtype: object"
      ]
     },
     "execution_count": 18,
     "metadata": {},
     "output_type": "execute_result"
    }
   ],
   "source": [
    "df.max()"
   ]
  },
  {
   "cell_type": "code",
   "execution_count": 19,
   "id": "852d34a1",
   "metadata": {},
   "outputs": [
    {
     "data": {
      "text/plain": [
       "temp_c                 9.30\n",
       "dew_point              3.30\n",
       "relative_humidity     68.00\n",
       "wind_speed            13.00\n",
       "visibility            25.00\n",
       "pressure             101.07\n",
       "dtype: float64"
      ]
     },
     "execution_count": 19,
     "metadata": {},
     "output_type": "execute_result"
    }
   ],
   "source": [
    "df.median()"
   ]
  },
  {
   "cell_type": "code",
   "execution_count": 23,
   "id": "371d7008",
   "metadata": {},
   "outputs": [],
   "source": [
    "fahr = (df.temp_c * (9/5)) + 32"
   ]
  },
  {
   "cell_type": "code",
   "execution_count": 31,
   "id": "af127b90",
   "metadata": {},
   "outputs": [],
   "source": [
    "df['temp_f'] = fahr"
   ]
  },
  {
   "cell_type": "code",
   "execution_count": 35,
   "id": "13100944",
   "metadata": {},
   "outputs": [],
   "source": [
    "df = df[['date_time', 'temp_f', 'temp_c', 'dew_point', 'relative_humidity', 'wind_speed', 'visibility', 'pressure', 'weather']]"
   ]
  },
  {
   "cell_type": "code",
   "execution_count": 38,
   "id": "3fde9a65",
   "metadata": {},
   "outputs": [
    {
     "data": {
      "text/plain": [
       "date_time             object\n",
       "temp_f               float64\n",
       "temp_c               float64\n",
       "dew_point            float64\n",
       "relative_humidity      int64\n",
       "wind_speed             int64\n",
       "visibility           float64\n",
       "pressure             float64\n",
       "weather               object\n",
       "dtype: object"
      ]
     },
     "execution_count": 38,
     "metadata": {},
     "output_type": "execute_result"
    }
   ],
   "source": [
    "df.dtypes"
   ]
  },
  {
   "cell_type": "code",
   "execution_count": 39,
   "id": "b9a00446",
   "metadata": {},
   "outputs": [],
   "source": [
    "df['date_time'] = pd.to_datetime(df['date_time'])"
   ]
  },
  {
   "cell_type": "code",
   "execution_count": 40,
   "id": "84643e82",
   "metadata": {},
   "outputs": [
    {
     "data": {
      "text/plain": [
       "date_time            datetime64[ns]\n",
       "temp_f                      float64\n",
       "temp_c                      float64\n",
       "dew_point                   float64\n",
       "relative_humidity             int64\n",
       "wind_speed                    int64\n",
       "visibility                  float64\n",
       "pressure                    float64\n",
       "weather                      object\n",
       "dtype: object"
      ]
     },
     "execution_count": 40,
     "metadata": {},
     "output_type": "execute_result"
    }
   ],
   "source": [
    "df.dtypes"
   ]
  },
  {
   "cell_type": "code",
   "execution_count": 44,
   "id": "966050a6",
   "metadata": {},
   "outputs": [
    {
     "data": {
      "text/plain": [
       "Mainly Clear     2106\n",
       "Mostly Cloudy    2069\n",
       "Cloudy           1728\n",
       "Clear            1326\n",
       "Snow              390\n",
       "Rain              306\n",
       "Rain Showers      188\n",
       "Fog               150\n",
       "Rain,Fog          116\n",
       "Drizzle,Fog        80\n",
       "Name: weather, dtype: int64"
      ]
     },
     "execution_count": 44,
     "metadata": {},
     "output_type": "execute_result"
    }
   ],
   "source": [
    "df['weather'].value_counts().head(10)"
   ]
  },
  {
   "cell_type": "code",
   "execution_count": 48,
   "id": "07fb4e72",
   "metadata": {},
   "outputs": [],
   "source": [
    "month = df.loc[(df.temp_f > 90) & (df.relative_humidity < 50) & (df.dew_point > 17) & (df.weather == 'Mainly Clear')]"
   ]
  },
  {
   "cell_type": "code",
   "execution_count": 50,
   "id": "b6fa05f2",
   "metadata": {},
   "outputs": [],
   "source": [
    "df['month'] = pd.DatetimeIndex(df['date_time']).month"
   ]
  },
  {
   "cell_type": "code",
   "execution_count": 54,
   "id": "10899a64",
   "metadata": {},
   "outputs": [],
   "source": [
    "df.to_csv('weather_2012_new', index = False)"
   ]
  },
  {
   "cell_type": "code",
   "execution_count": null,
   "id": "168ae6bd",
   "metadata": {},
   "outputs": [],
   "source": []
  }
 ],
 "metadata": {
  "kernelspec": {
   "display_name": "Python 3",
   "language": "python",
   "name": "python3"
  },
  "language_info": {
   "codemirror_mode": {
    "name": "ipython",
    "version": 3
   },
   "file_extension": ".py",
   "mimetype": "text/x-python",
   "name": "python",
   "nbconvert_exporter": "python",
   "pygments_lexer": "ipython3",
   "version": "3.8.8"
  }
 },
 "nbformat": 4,
 "nbformat_minor": 5
}
